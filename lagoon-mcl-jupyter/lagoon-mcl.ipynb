{
 "cells": [
  {
   "cell_type": "markdown",
   "id": "7eadd009-d7ab-4a46-a105-1b0f5cc0623b",
   "metadata": {},
   "source": [
    "# LAGOON-MCL jupyter notebook\n",
    "\n",
    "Welcome to the jupyter notebook.\n",
    "\n",
    "It allows you to explore the results obtained with LAGOON-MCL in an interactive way.\n",
    "\n",
    "## Installation and use\n",
    "\n",
    "1. Setting up the environment with Conda or Mamba\n",
    "\n",
    "```bash\n",
    "# CONDA\n",
    "conda env create -f environment.yaml\n",
    "\n",
    "# MAMBA\n",
    "mamba env create -f environment.yaml\n",
    "```\n",
    "\n",
    "2. Environment activation\n",
    "\n",
    "```bash\n",
    "# CONDA\n",
    "conda activate jupyter-lagoon-mcl\n",
    "\n",
    "# MAMBA\n",
    "mamba activate jupyter-lagoon-mcl\n",
    "```\n",
    "\n",
    "3. Open lagoon-mcl.ipynb\n",
    "\n",
    "```bash\n",
    "jupyter lab lagoon-mcl.ipynb\n",
    "```\n",
    "\n",
    "## Information\n",
    "\n",
    "This jupyter lab uses r-irkernel."
   ]
  },
  {
   "cell_type": "markdown",
   "id": "f1f3d690-ff6e-4e7d-bf42-d8b5fe9ac93f",
   "metadata": {},
   "source": [
    "# Step 1: Data preparation\n",
    "\n",
    "Before starting the analysis with R, it is necessary to merge the different TSV files containing the homogeneity scores into a single TSV file.\n",
    "\n",
    "## Descrription\n",
    "\n",
    "- `input = <path>` --> path to folder containing TSV files with homogeneity scores (example: `results/homogeneity_score/inflation_1.4/tsv_all`).\n",
    "- `output = <path>` --> path where merged tsv files will be stored.\n",
    "- `inflation = <float>` --> inflation parameter used to build clusters.\n",
    "- `type = <str>` --> type of homogeneity score calculation (all or annotated)\n",
    "\n",
    "## Use\n",
    "\n",
    "This operation must be performed for each inflation parameter."
   ]
  },
  {
   "cell_type": "code",
   "execution_count": 29,
   "id": "efaae566-7ce3-4d0c-b5eb-d8ddad724a7c",
   "metadata": {},
   "outputs": [],
   "source": [
    "input = \"/home/jrousseau/Documents/homogeneity_score/inflation_1.4/tsv_all\"\n",
    "output = \"/home/jrousseau/Documents/homogeneity_score/data\"\n",
    "inflation = 1.4\n",
    "type = \"all\""
   ]
  },
  {
   "cell_type": "code",
   "execution_count": 30,
   "id": "3611c794-abaa-48ce-8ada-317af5f55b68",
   "metadata": {},
   "outputs": [],
   "source": [
    "system(command = paste(\"./merge.sh\", input, inflation, type, output, sep = \" \"))"
   ]
  },
  {
   "cell_type": "markdown",
   "id": "f7f9a09c-6137-4feb-819c-23e19d057e1f",
   "metadata": {},
   "source": [
    "# Step 2: Data analysis\n",
    "\n",
    "## 2.A. Load packages"
   ]
  },
  {
   "cell_type": "code",
   "execution_count": 31,
   "id": "451f2c32-96b7-49a0-b70e-df5628fd0313",
   "metadata": {
    "scrolled": true
   },
   "outputs": [],
   "source": [
    "library(ggplot2)\n",
    "library(dplyr)\n",
    "library(tidyr)"
   ]
  },
  {
   "cell_type": "markdown",
   "id": "2880ce70-ffb1-40b6-8ee5-c43cbef891b3",
   "metadata": {},
   "source": [
    "## 2.B. Load dataframe\n",
    "\n",
    "* `path_dataframe` <- <path> --> path where merged tsv files will be stored."
   ]
  },
  {
   "cell_type": "code",
   "execution_count": 32,
   "id": "8350125e-9c44-441e-aeab-6187929fcbe0",
   "metadata": {},
   "outputs": [],
   "source": [
    "path_dataframe <- \"data/homogeneity_score_I1.4_all.tsv\"\n",
    "\n",
    "dataframe <- read.table(path_dataframe, sep = \"\\t\", header = TRUE)"
   ]
  },
  {
   "cell_type": "markdown",
   "id": "ca56aa82-cb11-4f6e-a985-ad5327fac211",
   "metadata": {},
   "source": [
    "## 2.C. Columns\n",
    "\n",
    "This command lets you know the names of all the columns in dataframe. In the rest of this jupyter, you'll be able to easily select the columns you're interested in."
   ]
  },
  {
   "cell_type": "code",
   "execution_count": 33,
   "id": "9a9b724b-4b51-44c7-8dc1-634ff47c8390",
   "metadata": {},
   "outputs": [
    {
     "data": {
      "text/html": [
       "<style>\n",
       ".list-inline {list-style: none; margin:0; padding: 0}\n",
       ".list-inline>li {display: inline-block}\n",
       ".list-inline>li:not(:last-child)::after {content: \"\\00b7\"; padding: 0 .5ex}\n",
       "</style>\n",
       "<ol class=list-inline><li>'CC'</li><li>'CC_size'</li><li>'homogeneity_score_label_AntiFam_I1.4_all'</li><li>'homogeneity_score_label_CDD_I1.4_all'</li><li>'homogeneity_score_label_Class_I1.4_all'</li><li>'homogeneity_score_label_Coils_I1.4_all'</li><li>'homogeneity_score_label_Database_I1.4_all'</li><li>'homogeneity_score_label_Family_I1.4_all'</li><li>'homogeneity_score_label_FunFam_I1.4_all'</li><li>'homogeneity_score_label_Gene3D_I1.4_all'</li><li>'homogeneity_score_label_Genus_I1.4_all'</li><li>'homogeneity_score_label_Hamap_I1.4_all'</li><li>'homogeneity_score_label_interpro_accession_I1.4_all'</li><li>'homogeneity_score_label_MobiDBLite_I1.4_all'</li><li>'homogeneity_score_label_Order_I1.4_all'</li><li>'homogeneity_score_label_PANTHER_I1.4_all'</li><li>'homogeneity_score_label_Pfam_I1.4_all'</li><li>'homogeneity_score_label_Phobius_I1.4_all'</li><li>'homogeneity_score_label_Phylum_I1.4_all'</li><li>'homogeneity_score_label_PIRSF_I1.4_all'</li><li>'homogeneity_score_label_PRINTS_I1.4_all'</li><li>'homogeneity_score_label_ProSitePatterns_I1.4_all'</li><li>'homogeneity_score_label_ProSiteProfiles_I1.4_all'</li><li>'homogeneity_score_label_SFLD_I1.4_all'</li><li>'homogeneity_score_label_SMART_I1.4_all'</li><li>'homogeneity_score_label_Species_I1.4_all'</li><li>'homogeneity_score_label_SUPERFAMILY_I1.4_all'</li><li>'homogeneity_score_label_TIGRFAM_I1.4_all'</li><li>'homogeneity_score_label_TMHMM_I1.4_all'</li></ol>\n"
      ],
      "text/latex": [
       "\\begin{enumerate*}\n",
       "\\item 'CC'\n",
       "\\item 'CC\\_size'\n",
       "\\item 'homogeneity\\_score\\_label\\_AntiFam\\_I1.4\\_all'\n",
       "\\item 'homogeneity\\_score\\_label\\_CDD\\_I1.4\\_all'\n",
       "\\item 'homogeneity\\_score\\_label\\_Class\\_I1.4\\_all'\n",
       "\\item 'homogeneity\\_score\\_label\\_Coils\\_I1.4\\_all'\n",
       "\\item 'homogeneity\\_score\\_label\\_Database\\_I1.4\\_all'\n",
       "\\item 'homogeneity\\_score\\_label\\_Family\\_I1.4\\_all'\n",
       "\\item 'homogeneity\\_score\\_label\\_FunFam\\_I1.4\\_all'\n",
       "\\item 'homogeneity\\_score\\_label\\_Gene3D\\_I1.4\\_all'\n",
       "\\item 'homogeneity\\_score\\_label\\_Genus\\_I1.4\\_all'\n",
       "\\item 'homogeneity\\_score\\_label\\_Hamap\\_I1.4\\_all'\n",
       "\\item 'homogeneity\\_score\\_label\\_interpro\\_accession\\_I1.4\\_all'\n",
       "\\item 'homogeneity\\_score\\_label\\_MobiDBLite\\_I1.4\\_all'\n",
       "\\item 'homogeneity\\_score\\_label\\_Order\\_I1.4\\_all'\n",
       "\\item 'homogeneity\\_score\\_label\\_PANTHER\\_I1.4\\_all'\n",
       "\\item 'homogeneity\\_score\\_label\\_Pfam\\_I1.4\\_all'\n",
       "\\item 'homogeneity\\_score\\_label\\_Phobius\\_I1.4\\_all'\n",
       "\\item 'homogeneity\\_score\\_label\\_Phylum\\_I1.4\\_all'\n",
       "\\item 'homogeneity\\_score\\_label\\_PIRSF\\_I1.4\\_all'\n",
       "\\item 'homogeneity\\_score\\_label\\_PRINTS\\_I1.4\\_all'\n",
       "\\item 'homogeneity\\_score\\_label\\_ProSitePatterns\\_I1.4\\_all'\n",
       "\\item 'homogeneity\\_score\\_label\\_ProSiteProfiles\\_I1.4\\_all'\n",
       "\\item 'homogeneity\\_score\\_label\\_SFLD\\_I1.4\\_all'\n",
       "\\item 'homogeneity\\_score\\_label\\_SMART\\_I1.4\\_all'\n",
       "\\item 'homogeneity\\_score\\_label\\_Species\\_I1.4\\_all'\n",
       "\\item 'homogeneity\\_score\\_label\\_SUPERFAMILY\\_I1.4\\_all'\n",
       "\\item 'homogeneity\\_score\\_label\\_TIGRFAM\\_I1.4\\_all'\n",
       "\\item 'homogeneity\\_score\\_label\\_TMHMM\\_I1.4\\_all'\n",
       "\\end{enumerate*}\n"
      ],
      "text/markdown": [
       "1. 'CC'\n",
       "2. 'CC_size'\n",
       "3. 'homogeneity_score_label_AntiFam_I1.4_all'\n",
       "4. 'homogeneity_score_label_CDD_I1.4_all'\n",
       "5. 'homogeneity_score_label_Class_I1.4_all'\n",
       "6. 'homogeneity_score_label_Coils_I1.4_all'\n",
       "7. 'homogeneity_score_label_Database_I1.4_all'\n",
       "8. 'homogeneity_score_label_Family_I1.4_all'\n",
       "9. 'homogeneity_score_label_FunFam_I1.4_all'\n",
       "10. 'homogeneity_score_label_Gene3D_I1.4_all'\n",
       "11. 'homogeneity_score_label_Genus_I1.4_all'\n",
       "12. 'homogeneity_score_label_Hamap_I1.4_all'\n",
       "13. 'homogeneity_score_label_interpro_accession_I1.4_all'\n",
       "14. 'homogeneity_score_label_MobiDBLite_I1.4_all'\n",
       "15. 'homogeneity_score_label_Order_I1.4_all'\n",
       "16. 'homogeneity_score_label_PANTHER_I1.4_all'\n",
       "17. 'homogeneity_score_label_Pfam_I1.4_all'\n",
       "18. 'homogeneity_score_label_Phobius_I1.4_all'\n",
       "19. 'homogeneity_score_label_Phylum_I1.4_all'\n",
       "20. 'homogeneity_score_label_PIRSF_I1.4_all'\n",
       "21. 'homogeneity_score_label_PRINTS_I1.4_all'\n",
       "22. 'homogeneity_score_label_ProSitePatterns_I1.4_all'\n",
       "23. 'homogeneity_score_label_ProSiteProfiles_I1.4_all'\n",
       "24. 'homogeneity_score_label_SFLD_I1.4_all'\n",
       "25. 'homogeneity_score_label_SMART_I1.4_all'\n",
       "26. 'homogeneity_score_label_Species_I1.4_all'\n",
       "27. 'homogeneity_score_label_SUPERFAMILY_I1.4_all'\n",
       "28. 'homogeneity_score_label_TIGRFAM_I1.4_all'\n",
       "29. 'homogeneity_score_label_TMHMM_I1.4_all'\n",
       "\n",
       "\n"
      ],
      "text/plain": [
       " [1] \"CC\"                                                 \n",
       " [2] \"CC_size\"                                            \n",
       " [3] \"homogeneity_score_label_AntiFam_I1.4_all\"           \n",
       " [4] \"homogeneity_score_label_CDD_I1.4_all\"               \n",
       " [5] \"homogeneity_score_label_Class_I1.4_all\"             \n",
       " [6] \"homogeneity_score_label_Coils_I1.4_all\"             \n",
       " [7] \"homogeneity_score_label_Database_I1.4_all\"          \n",
       " [8] \"homogeneity_score_label_Family_I1.4_all\"            \n",
       " [9] \"homogeneity_score_label_FunFam_I1.4_all\"            \n",
       "[10] \"homogeneity_score_label_Gene3D_I1.4_all\"            \n",
       "[11] \"homogeneity_score_label_Genus_I1.4_all\"             \n",
       "[12] \"homogeneity_score_label_Hamap_I1.4_all\"             \n",
       "[13] \"homogeneity_score_label_interpro_accession_I1.4_all\"\n",
       "[14] \"homogeneity_score_label_MobiDBLite_I1.4_all\"        \n",
       "[15] \"homogeneity_score_label_Order_I1.4_all\"             \n",
       "[16] \"homogeneity_score_label_PANTHER_I1.4_all\"           \n",
       "[17] \"homogeneity_score_label_Pfam_I1.4_all\"              \n",
       "[18] \"homogeneity_score_label_Phobius_I1.4_all\"           \n",
       "[19] \"homogeneity_score_label_Phylum_I1.4_all\"            \n",
       "[20] \"homogeneity_score_label_PIRSF_I1.4_all\"             \n",
       "[21] \"homogeneity_score_label_PRINTS_I1.4_all\"            \n",
       "[22] \"homogeneity_score_label_ProSitePatterns_I1.4_all\"   \n",
       "[23] \"homogeneity_score_label_ProSiteProfiles_I1.4_all\"   \n",
       "[24] \"homogeneity_score_label_SFLD_I1.4_all\"              \n",
       "[25] \"homogeneity_score_label_SMART_I1.4_all\"             \n",
       "[26] \"homogeneity_score_label_Species_I1.4_all\"           \n",
       "[27] \"homogeneity_score_label_SUPERFAMILY_I1.4_all\"       \n",
       "[28] \"homogeneity_score_label_TIGRFAM_I1.4_all\"           \n",
       "[29] \"homogeneity_score_label_TMHMM_I1.4_all\"             "
      ]
     },
     "metadata": {},
     "output_type": "display_data"
    }
   ],
   "source": [
    "names(dataframe)"
   ]
  },
  {
   "cell_type": "markdown",
   "id": "674f681c-335d-4d16-b02c-ef19e184e81e",
   "metadata": {},
   "source": [
    "# Step 3. Data distribution\n",
    "\n",
    "## 3.A. Homogeneity score\n",
    "\n",
    "This section plots the distribution of the homogeneity score as a function of the label. With the `min.float` and `max.float` obtions you can select the minimum and maximum value of the homogeneity score.\n",
    "\n",
    "- `label = <str>` --> label\n",
    "- `min.float = <float>` --> min homogeneity score\n",
    "- `max.float = <float>` --> max homogeneity score\n",
    "- `title.str = <str>` --> title plot\n",
    "- `x.str = <str>` --> axis x title\n",
    "- `y.str = <str>` --> axis y title\n",
    "- `bins.int = <int>`"
   ]
  },
  {
   "cell_type": "code",
   "execution_count": 34,
   "id": "e8f7bce5-67af-47c2-af76-91656408a75d",
   "metadata": {},
   "outputs": [],
   "source": [
    "label <- \"homogeneity_score_label_Pfam_I1.4_all\"\n",
    "min.float <- 0.0\n",
    "max.float <- 1.0\n",
    "title.str <- \"Distribution homogeneity score\"\n",
    "x.str <- \"Homogeneity score\"\n",
    "y.str <- \"Count\"\n",
    "bins.int <- 50"
   ]
  },
  {
   "cell_type": "code",
   "execution_count": 35,
   "id": "ac643764-6be7-453b-b2cf-e71bffdf9744",
   "metadata": {},
   "outputs": [
    {
     "data": {
      "image/png": "[encoded data removed]",
      "text/plain": [
       "plot without title"
      ]
     },
     "metadata": {
      "image/png": {
       "height": 420,
       "width": 420
      }
     },
     "output_type": "display_data"
    }
   ],
   "source": [
    "df.select <- dataframe %>% \n",
    "  select(c(CC_size, label)) %>% \n",
    "  filter(get(label) != \"unannotated\") %>% \n",
    "  filter(as.numeric(get(label)) >= min.float & as.numeric(get(label)) <= max.float)\n",
    "\n",
    "plot.1 <- df.select %>% \n",
    "  ggplot(aes(x = as.numeric(get(label)))) +\n",
    "  geom_histogram(bins = bins.int, color = 'darkblue', fill = 'lightblue')  +\n",
    "  theme_light() +\n",
    "  labs(title = title.str,\n",
    "       x = x.str,\n",
    "       y = y.str) +\n",
    "  theme(plot.title = element_text(size = 16, face = \"bold\",\n",
    "                                  hjust = 0.5),\n",
    "        axis.title = element_text(size = 14),\n",
    "        axis.text = element_text(size = 12))\n",
    "\n",
    "plot.1"
   ]
  },
  {
   "cell_type": "markdown",
   "id": "e97b0606-e569-4aed-ad78-6d95143852ac",
   "metadata": {},
   "source": [
    "Save figure in PDF format"
   ]
  },
  {
   "cell_type": "code",
   "execution_count": 36,
   "id": "57a30cc2-bbd1-4524-863c-b61be1b6ee18",
   "metadata": {},
   "outputs": [
    {
     "data": {
      "text/html": [
       "<strong>png:</strong> 2"
      ],
      "text/latex": [
       "\\textbf{png:} 2"
      ],
      "text/markdown": [
       "**png:** 2"
      ],
      "text/plain": [
       "png \n",
       "  2 "
      ]
     },
     "metadata": {},
     "output_type": "display_data"
    }
   ],
   "source": [
    "file.name <- \"distribution_pfam.pdf\"\n",
    "\n",
    "pdf(file = file.name, onefile = TRUE)\n",
    "  \n",
    "print(plot.1)\n",
    "\n",
    "dev.off()"
   ]
  },
  {
   "cell_type": "markdown",
   "id": "6afa8f7f-3d3b-484b-88a1-ed21d1bb5e71",
   "metadata": {},
   "source": [
    "## 3.B. Cluster size"
   ]
  },
  {
   "cell_type": "code",
   "execution_count": 39,
   "id": "bcdf865c-7654-40ae-b127-8827f8b26433",
   "metadata": {},
   "outputs": [],
   "source": [
    "min.float <- 0\n",
    "max.float <- max(dataframe$CC_size)\n",
    "title.str <- \"Distribution homogeneity score\"\n",
    "x.str <- \"Cluster size\"\n",
    "y.str <- \"Count\"\n",
    "bins.int <- 50"
   ]
  },
  {
   "cell_type": "code",
   "execution_count": 40,
   "id": "475f0d04-3a89-4ff5-8f93-2e80d2f43dc6",
   "metadata": {},
   "outputs": [
    {
     "data": {
      "image/png": "[encoded data removed]",
      "text/plain": [
       "plot without title"
      ]
     },
     "metadata": {
      "image/png": {
       "height": 420,
       "width": 420
      }
     },
     "output_type": "display_data"
    }
   ],
   "source": [
    "df.select <- dataframe %>% \n",
    "  select(CC_size) %>% \n",
    "  filter(CC_size >= min.float & CC_size <= max.float)\n",
    "\n",
    "plot.2 <- df.select %>% \n",
    "  ggplot(aes(x = CC_size)) +\n",
    "  geom_histogram(bins = bins.int, color = 'darkblue', fill = 'lightblue')  +\n",
    "  theme_light() +\n",
    "  labs(title = title.str,\n",
    "       x = x.str,\n",
    "       y = y.str) +\n",
    "  theme(plot.title = element_text(size = 16, face = \"bold\",\n",
    "                                  hjust = 0.5),\n",
    "        axis.title = element_text(size = 14),\n",
    "        axis.text = element_text(size = 12))\n",
    "plot.2"
   ]
  },
  {
   "cell_type": "markdown",
   "id": "e5fb3a88-e349-41c9-af56-e77b3403bd71",
   "metadata": {},
   "source": [
    "Save figure in PDF format"
   ]
  },
  {
   "cell_type": "code",
   "execution_count": 41,
   "id": "49f683e5-6ada-47e7-aabe-faa6d1393c9f",
   "metadata": {},
   "outputs": [
    {
     "data": {
      "text/html": [
       "<strong>png:</strong> 2"
      ],
      "text/latex": [
       "\\textbf{png:} 2"
      ],
      "text/markdown": [
       "**png:** 2"
      ],
      "text/plain": [
       "png \n",
       "  2 "
      ]
     },
     "metadata": {},
     "output_type": "display_data"
    }
   ],
   "source": [
    "file.name <- \"distribution_cluster_size.pdf\"\n",
    "\n",
    "pdf(file = file.name, onefile = TRUE)\n",
    "  \n",
    "print(plot.2)\n",
    "\n",
    "dev.off()"
   ]
  },
  {
   "cell_type": "markdown",
   "id": "06c24efe-b929-417e-8c0f-13f24f829814",
   "metadata": {},
   "source": [
    "# Step 4. Homogeneity score comparison\n",
    "\n",
    "- `col.vect <- <vector>`\n",
    "- `min.float <- <float>`\n",
    "- `max.float <- <float>`\n",
    "- `title.str <- <str>`\n",
    "- `x.str <- <str>`\n",
    "- `y.str <- <str>`"
   ]
  },
  {
   "cell_type": "code",
   "execution_count": 42,
   "id": "143b78a4-4bbf-4e8b-a609-acef93b41fda",
   "metadata": {},
   "outputs": [],
   "source": [
    "#col.vect <- names(dataframe)\n",
    "col.vect <- c(\"CC\", \"CC_size\",\n",
    "              \"homogeneity_score_label_FunFam_I1.4_all\", \n",
    "              \"homogeneity_score_label_interpro_accession_I1.4_all\",\n",
    "              \"homogeneity_score_label_Pfam_I1.4_all\", \n",
    "              \"homogeneity_score_label_Gene3D_I1.4_all\")\n",
    "min.float <- 0.0\n",
    "max.float <- 1.0\n",
    "title.str <- \"Homogeneity score\"\n",
    "x.str <- \"Label\"\n",
    "y.str <- \"Homogeneity score\""
   ]
  },
  {
   "cell_type": "code",
   "execution_count": 43,
   "id": "5f49194d-2981-4480-bb4b-6b5bba20bbad",
   "metadata": {},
   "outputs": [
    {
     "data": {
      "image/png": "[encoded data removed]",
      "text/plain": [
       "plot without title"
      ]
     },
     "metadata": {
      "image/png": {
       "height": 420,
       "width": 420
      }
     },
     "output_type": "display_data"
    }
   ],
   "source": [
    "label.vect <- col.vect[-c(1,2)]\n",
    "\n",
    "df_pivot <- dataframe %>% \n",
    "  select(col.vect) %>% \n",
    "  mutate_all(as.character) %>% \n",
    "  pivot_longer(cols = label.vect,\n",
    "               names_to = \"label\",\n",
    "               values_to = \"homogeneity_score\") %>% \n",
    "  filter(homogeneity_score != \"unannotated\")\n",
    "\n",
    "plot.3 <- df_pivot %>% \n",
    "  ggplot(aes(x = label, y = as.numeric(homogeneity_score))) +\n",
    "  geom_boxplot() +\n",
    "  theme_light() +\n",
    "  coord_flip() +\n",
    "  labs(title = title.str,\n",
    "       x = x.str,\n",
    "       y = y.str) +\n",
    "  theme(plot.title = element_text(size = 16, face = \"bold\",\n",
    "                                  hjust = 0.5),\n",
    "        axis.title = element_text(size = 14),\n",
    "        axis.text = element_text(size = 12))\n",
    "\n",
    "plot.3"
   ]
  },
  {
   "cell_type": "markdown",
   "id": "2532a93d-851f-4b2a-885e-e140b5329a81",
   "metadata": {},
   "source": [
    "Save figure in PDF format"
   ]
  },
  {
   "cell_type": "code",
   "execution_count": 28,
   "id": "5a195beb-f126-483d-ae88-af6f9d8763d4",
   "metadata": {},
   "outputs": [
    {
     "data": {
      "text/html": [
       "<strong>png:</strong> 2"
      ],
      "text/latex": [
       "\\textbf{png:} 2"
      ],
      "text/markdown": [
       "**png:** 2"
      ],
      "text/plain": [
       "png \n",
       "  2 "
      ]
     },
     "metadata": {},
     "output_type": "display_data"
    }
   ],
   "source": [
    "file.name <- \"homogeneity_score_comparison.pdf\"\n",
    "\n",
    "pdf(file = file.name, onefile = TRUE)\n",
    "  \n",
    "print(plot.3)\n",
    "\n",
    "dev.off()"
   ]
  },
  {
   "cell_type": "markdown",
   "id": "4ab30835-484a-4027-8a22-866310eacd4c",
   "metadata": {},
   "source": [
    "# Step 4. Taxonomy.\n",
    "\n",
    "Cette étapes peut être utilisé utiliquement si vous avez au moins un label qui correspond à la taxonomie."
   ]
  },
  {
   "cell_type": "code",
   "execution_count": null,
   "id": "550c2029-2527-44ab-bdaf-692e152c0b34",
   "metadata": {},
   "outputs": [],
   "source": []
  }
 ],
 "metadata": {
  "kernelspec": {
   "display_name": "R",
   "language": "R",
   "name": "ir"
  },
  "language_info": {
   "codemirror_mode": "r",
   "file_extension": ".r",
   "mimetype": "text/x-r-source",
   "name": "R",
   "pygments_lexer": "r",
   "version": "4.3.1"
  }
 },
 "nbformat": 4,
 "nbformat_minor": 5
}
